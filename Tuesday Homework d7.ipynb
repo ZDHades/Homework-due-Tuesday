{
 "cells": [
  {
   "cell_type": "markdown",
   "metadata": {},
   "source": [
    "# Exercises"
   ]
  },
  {
   "cell_type": "markdown",
   "metadata": {},
   "source": [
    "### 1) Build a Shopping Cart <br>\n",
    "<p><b>Should have the following capabilities:</b><br><br>\n",
    "1) Takes in input <br>\n",
    "2) Stores user input into a list <br>\n",
    "3) User can add or delete items <br>\n",
    "4) User can see current shopping list <br>\n",
    "5) Loops until user 'quits' <br>\n",
    "6) Upon quiting the program, print out all items in the user's list <br>\n",
    "7) menu before input\n",
    "</p>"
   ]
  },
  {
   "cell_type": "code",
   "execution_count": null,
   "metadata": {},
   "outputs": [],
   "source": [
    "# Crossroads Country Store!\n",
    "# Gonna be a nice while loop job\n",
    "def Crossroads():\n",
    "    final_cart = []\n",
    "    def Display_cart(list):\n",
    "        for i in list:\n",
    "            print(i)\n",
    "    while True:\n",
    "        print(\"\"\"\n",
    "    Welcome to Crossroads Country Store!\n",
    "    Todays deals are:\n",
    "     - Sir 'Spicy' Racha - $4 per 20oz BottleShooty Solider Shotgun Skin ID = 111 - $2 per 12oz Bottle - ID = 112 - \n",
    "     - Shooty Soldier Shotgun Skin - $400 for a limited edition custom skin for the 12 gauge shotgun - ID = 113 - \n",
    "     - Originally Organic Oranges - $5 per 1lbs - ID = 114 - \n",
    "    If you want to add something to your cart, type in the 'ID' for that item!\n",
    "    If you want to remove the last item from your cart, simply type in 'remove'.\n",
    "    If you are finished shopping, enter 'register'!\n",
    "    \"\"\"\n",
    "             )\n",
    "        shop = input(\"\")\n",
    "        if shop == \"111\":\n",
    "            final_cart.append(\"Sir 'spicy' Racha 20oz Bottle\")\n",
    "        elif shop == \"112\":\n",
    "            final_cart.append(\"Sir 'spicy' Racha 12oz Bottle\")\n",
    "        elif shop == \"113\":\n",
    "            final_cart.append(\"Shooty Solider Shotgun Skin\")\n",
    "        elif shop == \"114\":\n",
    "            final_cart.append(\"Originally Organic Oranges\")\n",
    "        elif shop == \"remove\":\n",
    "            final_cart.pop()\n",
    "            print(\"Last item from cart removed!\")\n",
    "        elif shop == \"register\":\n",
    "            print(\"This is your final reciept!\")\n",
    "            print(f\"Would you like a bag to carry {Display_cart(final_cart)} (y/n)?\")\n",
    "            input(\"\")\n",
    "            print(\"hah gotchya! Who needs bags at an online store!?\")\n",
    "            print(\"Thanks for shopping at Crossroads Country Store!\")\n",
    "            break\n",
    "        else:\n",
    "            print(\"uh oh not found; error 404; try again!\")"
   ]
  },
  {
   "cell_type": "code",
   "execution_count": null,
   "metadata": {},
   "outputs": [],
   "source": [
    "Crossroads()"
   ]
  },
  {
   "cell_type": "markdown",
   "metadata": {},
   "source": [
    "### 2) Create a Module in Visual Studio Code and Import It <br>\n",
    "<p><b>Module should have the following capabilities:</b><br><br>\n",
    "1) Has a function to calculate the square footage of a room <br>\n",
    "2) Has a function to calculate the circumference of a circle <br><br>\n",
    "<b>Program in Jupyter Notebook should take in user input and use imported functions to calculate a circle's circumference or a houses square footage</b>\n",
    "</p>"
   ]
  },
  {
   "cell_type": "code",
   "execution_count": 32,
   "metadata": {},
   "outputs": [],
   "source": [
    "import __init__\n",
    "import math"
   ]
  },
  {
   "cell_type": "code",
   "execution_count": 23,
   "metadata": {},
   "outputs": [],
   "source": [
    "#adding the functions from my python file since i cant show it on github\n",
    "def Circumference(radius):\n",
    "    print(f\"2 * {math.pi} * {radius} = {2 * math.pi * radius}\")\n",
    "\n",
    "def Square_footage(x,y):\n",
    "    print(f\"The square footage of this room is {x} * {y} = {x*y}\")\n"
   ]
  },
  {
   "cell_type": "code",
   "execution_count": null,
   "metadata": {},
   "outputs": [],
   "source": [
    "Square_footage(4,5)\n",
    "Circumference(4)"
   ]
  }
 ],
 "metadata": {
  "kernelspec": {
   "display_name": "Python 3",
   "language": "python",
   "name": "python3"
  },
  "language_info": {
   "codemirror_mode": {
    "name": "ipython",
    "version": 3
   },
   "file_extension": ".py",
   "mimetype": "text/x-python",
   "name": "python",
   "nbconvert_exporter": "python",
   "pygments_lexer": "ipython3",
   "version": "3.8.3"
  }
 },
 "nbformat": 4,
 "nbformat_minor": 4
}
